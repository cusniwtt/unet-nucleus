{
 "cells": [
  {
   "cell_type": "code",
   "execution_count": 8,
   "metadata": {},
   "outputs": [],
   "source": [
    "import os\n",
    "os.environ['TF_CPP_MIN_LOG_LEVEL'] = '2'\n",
    "import sys\n",
    "import random\n",
    "import warnings\n",
    "\n",
    "import numpy as np\n",
    "import pandas as pd\n",
    "\n",
    "import matplotlib.pyplot as plt\n",
    "from tqdm import tqdm\n",
    "from skimage.io import imread, imshow, imread_collection, concatenate_images\n",
    "from skimage.transform import resize\n",
    "from skimage.morphology import label\n",
    "\n",
    "from keras.models import load_model\n",
    "\n",
    "import tensorflow as tf"
   ]
  },
  {
   "cell_type": "markdown",
   "metadata": {},
   "source": [
    "### Prediction Function"
   ]
  },
  {
   "cell_type": "code",
   "execution_count": 9,
   "metadata": {},
   "outputs": [],
   "source": [
    "def prediction_nucleus(model_path, X_test, img_size = (256, 256), thres = 0.5, verbose = 1):\n",
    "    # Predict on train, val and test\n",
    "    model = load_model(model_path)\n",
    "    preds_test = model.predict(X_test, verbose=verbose)\n",
    "\n",
    "    # Threshold predictions\n",
    "    preds_test_t = (preds_test > thres).astype(np.uint8)\n",
    "\n",
    "    # Create list of upsampled test masks\n",
    "    preds_test_upsampled = []\n",
    "    for i in range(len(preds_test_t)):\n",
    "        preserve = np.squeeze(preds_test_t[i])\n",
    "        res = resize(preserve, img_size, mode='constant', preserve_range=True)\n",
    "        preds_test_upsampled.append(res.astype(np.uint8))\n",
    "    return preds_test_upsampled"
   ]
  },
  {
   "cell_type": "markdown",
   "metadata": {},
   "source": [
    "### Watershed for nucleus split"
   ]
  },
  {
   "cell_type": "code",
   "execution_count": 10,
   "metadata": {},
   "outputs": [],
   "source": [
    "import cv2\n",
    "import scipy.ndimage as ndi\n",
    "from skimage.segmentation import watershed, find_boundaries\n",
    "from skimage.feature import corner_peaks\n",
    "from skimage.morphology import binary_dilation, disk\n",
    "from skimage.color import label2rgb\n",
    "from skimage.measure import regionprops_table\n",
    "\n",
    "def make_boundary_image(L, A, thickness=1, color=(255,255,85), rescale_hist=True):\n",
    "    if A.ndim == 2:\n",
    "        A = np.stack((A,A,A), axis=2)\n",
    "    if rescale_hist:\n",
    "        A = np.interp(A, (np.amin(A), np.amax(A)), (0,255)).astype(np.uint8)\n",
    "    else:\n",
    "        A = A.astype(np.uint8)\n",
    "\n",
    "    mask = find_boundaries(L)\n",
    "    mask = binary_dilation(mask, footprint=disk(thickness))\n",
    "\n",
    "    R = A[:,:,0].copy()\n",
    "    G = A[:,:,1].copy()\n",
    "    B = A[:,:,2].copy()\n",
    "\n",
    "    R[mask] = color[0]\n",
    "    G[mask] = color[1]\n",
    "    B[mask] = color[2]\n",
    "\n",
    "    return np.stack((R,G,B), axis=2)\n",
    "\n",
    "def labelvis(A, L, bg_color='b'):\n",
    "    bg_color_code = {\n",
    "        'b': (0.1,0.1,0.5),\n",
    "        'g': (0.1,0.5,0.1),\n",
    "    }  \n",
    "    A = label2rgb(L, A, bg_label=0, bg_color=bg_color_code[bg_color], alpha=0.3, image_alpha=1)\n",
    "    A = np.interp(A, (0,1), (0,255)).astype(np.uint8)\n",
    "    A = make_boundary_image(L, A)\n",
    "    return A\n",
    "\n",
    "# Create predict boundary image with label\n",
    "# Input: image, label\n",
    "# Output: rgb_watershed, boundary, mask, dataframe\n",
    "def create_boundary(img, label):\n",
    "    #Threshold image to binary using OTSU. ALl thresholded pixels will be set to 255\n",
    "    ret1, thresh = cv2.threshold(label, 0, 255, cv2.THRESH_BINARY+cv2.THRESH_OTSU)\n",
    "    \n",
    "    # Borrow from imageMKS\n",
    "    # Step 9: distance transform\n",
    "    distance = ndi.distance_transform_edt(thresh)\n",
    "    \n",
    "    # Step 10: mark the maxima in the distance transform and assign labels\n",
    "    peak_markers = corner_peaks(distance, min_distance=5, indices=False)\n",
    "    peak_markers = ndi.label(peak_markers)[0]\n",
    "    \n",
    "    # Step 11: separate touching nuclei using the watershed markers\n",
    "    markers = watershed(label, peak_markers, mask=label)\n",
    "    \n",
    "    # Step 13: reassigning labels, so that they are continuously numbered\n",
    "    old_labels = np.unique(markers)\n",
    "    for i in range(len(old_labels)):\n",
    "        markers[markers == old_labels[i]] = i\n",
    "    \n",
    "    #Let us color boundaries in yellow. \n",
    "    img[markers == -1] = [0,255,255]  \n",
    "    \n",
    "    img_rgb = label2rgb(markers, bg_label=0)\n",
    "    boundary = labelvis(img, markers)\n",
    "    \n",
    "    # regionprops function in skimage measure module calculates useful parameters for each object.\n",
    "    params = ['label', 'area', 'bbox', 'equivalent_diameter', 'mean_intensity', 'solidity']\n",
    "    props = regionprops_table(markers, intensity_image=X_test[0], properties=params)\n",
    "    df = pd.DataFrame(props)\n",
    "    \n",
    "    return img_rgb, boundary, markers, df"
   ]
  },
  {
   "cell_type": "code",
   "execution_count": 11,
   "metadata": {},
   "outputs": [
    {
     "data": {
      "text/plain": [
       "'/home/cusniwtt/unet-nucleus'"
      ]
     },
     "execution_count": 11,
     "metadata": {},
     "output_type": "execute_result"
    }
   ],
   "source": [
    "# Set some parameters\n",
    "IMG_WIDTH = 256\n",
    "IMG_HEIGHT = 256\n",
    "IMG_CHANNELS = 3\n",
    "TRAIN_PATH = 'dataset/stage1_train/'\n",
    "TEST_PATH = 'dataset/stage1_test/'\n",
    "\n",
    "dir_path = ''\n",
    "\n",
    "warnings.filterwarnings('ignore', category=UserWarning, module='skimage')\n",
    "seed = 42\n",
    "random.seed = seed\n",
    "np.random.seed = seed\n",
    "\n",
    "os.getcwd()"
   ]
  },
  {
   "cell_type": "markdown",
   "metadata": {},
   "source": [
    "## Get Test data"
   ]
  },
  {
   "cell_type": "code",
   "execution_count": 12,
   "metadata": {},
   "outputs": [],
   "source": [
    "# Get train and test IDs\n",
    "#train_ids = next(os.walk(TRAIN_PATH))[1]\n",
    "test_ids = next(os.walk(TEST_PATH))[1]"
   ]
  },
  {
   "cell_type": "code",
   "execution_count": 13,
   "metadata": {},
   "outputs": [
    {
     "name": "stdout",
     "output_type": "stream",
     "text": [
      "Getting and resizing test images ... \n"
     ]
    },
    {
     "name": "stderr",
     "output_type": "stream",
     "text": [
      "100%|███████████████████████████████████████████████████████████████████████████████████████████████| 12/12 [00:01<00:00,  6.95it/s]"
     ]
    },
    {
     "name": "stdout",
     "output_type": "stream",
     "text": [
      "Done!\n"
     ]
    },
    {
     "name": "stderr",
     "output_type": "stream",
     "text": [
      "\n"
     ]
    }
   ],
   "source": [
    "# Get and resize train images and masks\n",
    "\"\"\"\n",
    "X_train = np.zeros((len(train_ids), IMG_HEIGHT, IMG_WIDTH, IMG_CHANNELS), dtype=np.uint8)\n",
    "Y_train = np.zeros((len(train_ids), IMG_HEIGHT, IMG_WIDTH, 1), dtype=bool)\n",
    "print('Getting and resizing train images and masks ... ')\n",
    "sys.stdout.flush()\n",
    "for n, id_ in tqdm(enumerate(train_ids), total=len(train_ids)):\n",
    "    \n",
    "    #Read image files iteratively\n",
    "    path = TRAIN_PATH + id_\n",
    "    img = imread(dir_path + path + '/images/' + id_ + '.png')[:,:,:IMG_CHANNELS]\n",
    "    img = resize(img, (IMG_HEIGHT, IMG_WIDTH), mode='constant', preserve_range=True)\n",
    "    \n",
    "    #Append image to numpy array for train dataset\n",
    "    X_train[n] = img\n",
    "    \n",
    "    #Read corresponding mask files iteratively\n",
    "    mask = np.zeros((IMG_HEIGHT, IMG_WIDTH, 1), dtype=bool)\n",
    "    \n",
    "    #Looping through masks\n",
    "    for mask_file in next(os.walk(path + '/masks/'))[2]:\n",
    "\n",
    "        # Remove .DS_Store file\n",
    "        if mask_file == '.DS_Store':\n",
    "            continue\n",
    "        \n",
    "        #Read individual masks\n",
    "        mask_ = imread(dir_path + path + '/masks/' + mask_file)\n",
    "        \n",
    "        #Expand individual mask dimensions\n",
    "        mask_ = np.expand_dims(resize(mask_, (IMG_HEIGHT, IMG_WIDTH), mode='constant', preserve_range=True), axis=-1)\n",
    "\n",
    "        #Overlay individual masks to create a final mask for corresponding image\n",
    "        try:\n",
    "            mask = np.maximum(mask, mask_)\n",
    "        except:\n",
    "            print(mask_file)\n",
    "    \n",
    "    #Append mask to numpy array for train dataset\n",
    "    Y_train[n] = mask\n",
    "\"\"\"\n",
    "\n",
    "# Get and resize test images\n",
    "X_test = np.zeros((len(test_ids), IMG_HEIGHT, IMG_WIDTH, IMG_CHANNELS), dtype=np.uint8)\n",
    "Y_test = np.zeros((len(test_ids), IMG_HEIGHT, IMG_WIDTH, 1), dtype=bool)\n",
    "sizes_test = []\n",
    "print('Getting and resizing test images ... ')\n",
    "sys.stdout.flush()\n",
    "for n, id_ in tqdm(enumerate(test_ids), total=len(test_ids)):\n",
    "    path = TEST_PATH + id_\n",
    "    \n",
    "    #Read images iteratively\n",
    "    img = imread(dir_path + path + '/images/' + id_ + '.png')[:,:,:IMG_CHANNELS]\n",
    "    \n",
    "    #Get test size\n",
    "    sizes_test.append([img.shape[0], img.shape[1]])\n",
    "    \n",
    "    #Resize image to match training data\n",
    "    img = resize(img, (IMG_HEIGHT, IMG_WIDTH), mode='constant', preserve_range=True)\n",
    "    \n",
    "    #Append image to numpy array for test dataset\n",
    "    X_test[n] = img\n",
    "\n",
    "    #Read corresponding mask files iteratively\n",
    "    mask = np.zeros((IMG_HEIGHT, IMG_WIDTH, 1), dtype=bool)\n",
    "    \n",
    "    #Looping through masks\n",
    "    for mask_file in next(os.walk(path + '/masks/'))[2]:\n",
    "\n",
    "        # Remove .DS_Store file\n",
    "        if mask_file == '.DS_Store':\n",
    "            continue\n",
    "        \n",
    "        #Read individual masks\n",
    "        mask_ = imread(dir_path + path + '/masks/' + mask_file)\n",
    "        \n",
    "        #Expand individual mask dimensions\n",
    "        mask_ = np.expand_dims(resize(mask_, (IMG_HEIGHT, IMG_WIDTH), mode='constant', preserve_range=True), axis=-1)\n",
    "\n",
    "        #Overlay individual masks to create a final mask for corresponding image\n",
    "        try:\n",
    "            mask = np.maximum(mask, mask_)\n",
    "        except:\n",
    "            print(mask_file)\n",
    "    \n",
    "    #Append mask to numpy array for train dataset\n",
    "    Y_test[n] = mask\n",
    "\n",
    "print('Done!')"
   ]
  },
  {
   "cell_type": "code",
   "execution_count": 14,
   "metadata": {},
   "outputs": [
    {
     "data": {
      "image/png": "[encoded data removed]",
      "text/plain": [
       "<Figure size 640x480 with 1 Axes>"
      ]
     },
     "metadata": {},
     "output_type": "display_data"
    },
    {
     "data": {
      "image/png": "[encoded data removed]",
      "text/plain": [
       "<Figure size 640x480 with 1 Axes>"
      ]
     },
     "metadata": {},
     "output_type": "display_data"
    }
   ],
   "source": [
    "# Check if training data looks all right\n",
    "#ix = random.randint(0, len(train_ids))\n",
    "imshow(X_test[0])\n",
    "plt.show()\n",
    "imshow(np.squeeze(Y_test[0]))\n",
    "plt.show()"
   ]
  },
  {
   "cell_type": "markdown",
   "metadata": {
    "tags": []
   },
   "source": [
    "# Prediction"
   ]
  },
  {
   "cell_type": "markdown",
   "metadata": {},
   "source": [
    "## U-Net 64"
   ]
  },
  {
   "cell_type": "markdown",
   "metadata": {},
   "source": [
    "### Adam, BCE"
   ]
  },
  {
   "cell_type": "code",
   "execution_count": 15,
   "metadata": {},
   "outputs": [
    {
     "ename": "OSError",
     "evalue": "No file or directory found at weights/unet_64_adam_bce_8.h5",
     "output_type": "error",
     "traceback": [
      "\u001b[0;31m---------------------------------------------------------------------------\u001b[0m",
      "\u001b[0;31mOSError\u001b[0m                                   Traceback (most recent call last)",
      "\u001b[0;32m/var/tmp/ipykernel_8814/2107838992.py\u001b[0m in \u001b[0;36m<module>\u001b[0;34m\u001b[0m\n\u001b[1;32m      1\u001b[0m \u001b[0mw_path\u001b[0m \u001b[0;34m=\u001b[0m \u001b[0;34m'weights/unet_64_adam_bce_8.h5'\u001b[0m\u001b[0;34m\u001b[0m\u001b[0;34m\u001b[0m\u001b[0m\n\u001b[0;32m----> 2\u001b[0;31m \u001b[0mmodel\u001b[0m \u001b[0;34m=\u001b[0m \u001b[0mload_model\u001b[0m\u001b[0;34m(\u001b[0m\u001b[0mw_path\u001b[0m\u001b[0;34m)\u001b[0m\u001b[0;34m\u001b[0m\u001b[0;34m\u001b[0m\u001b[0m\n\u001b[0m\u001b[1;32m      3\u001b[0m \u001b[0mY_pred\u001b[0m \u001b[0;34m=\u001b[0m \u001b[0;34m[\u001b[0m\u001b[0;34m]\u001b[0m\u001b[0;34m\u001b[0m\u001b[0;34m\u001b[0m\u001b[0m\n\u001b[1;32m      4\u001b[0m \u001b[0;32mfor\u001b[0m \u001b[0mi\u001b[0m \u001b[0;32min\u001b[0m \u001b[0mrange\u001b[0m\u001b[0;34m(\u001b[0m\u001b[0mX_test\u001b[0m\u001b[0;34m.\u001b[0m\u001b[0mshape\u001b[0m\u001b[0;34m[\u001b[0m\u001b[0;36m0\u001b[0m\u001b[0;34m]\u001b[0m\u001b[0;34m)\u001b[0m\u001b[0;34m:\u001b[0m\u001b[0;34m\u001b[0m\u001b[0;34m\u001b[0m\u001b[0m\n\u001b[1;32m      5\u001b[0m     \u001b[0mpred\u001b[0m \u001b[0;34m=\u001b[0m \u001b[0mmodel\u001b[0m\u001b[0;34m.\u001b[0m\u001b[0mpredict\u001b[0m\u001b[0;34m(\u001b[0m\u001b[0mnp\u001b[0m\u001b[0;34m.\u001b[0m\u001b[0mexpand_dims\u001b[0m\u001b[0;34m(\u001b[0m\u001b[0mX_test\u001b[0m\u001b[0;34m[\u001b[0m\u001b[0mi\u001b[0m\u001b[0;34m]\u001b[0m\u001b[0;34m,\u001b[0m \u001b[0maxis\u001b[0m\u001b[0;34m=\u001b[0m\u001b[0;36m0\u001b[0m\u001b[0;34m)\u001b[0m\u001b[0;34m,\u001b[0m \u001b[0mverbose\u001b[0m\u001b[0;34m=\u001b[0m\u001b[0;36m0\u001b[0m\u001b[0;34m)\u001b[0m\u001b[0;34m\u001b[0m\u001b[0;34m\u001b[0m\u001b[0m\n",
      "\u001b[0;32m/opt/conda/lib/python3.7/site-packages/keras/utils/traceback_utils.py\u001b[0m in \u001b[0;36merror_handler\u001b[0;34m(*args, **kwargs)\u001b[0m\n\u001b[1;32m     68\u001b[0m             \u001b[0;31m# To get the full stack trace, call:\u001b[0m\u001b[0;34m\u001b[0m\u001b[0;34m\u001b[0m\u001b[0;34m\u001b[0m\u001b[0m\n\u001b[1;32m     69\u001b[0m             \u001b[0;31m# `tf.debugging.disable_traceback_filtering()`\u001b[0m\u001b[0;34m\u001b[0m\u001b[0;34m\u001b[0m\u001b[0;34m\u001b[0m\u001b[0m\n\u001b[0;32m---> 70\u001b[0;31m             \u001b[0;32mraise\u001b[0m \u001b[0me\u001b[0m\u001b[0;34m.\u001b[0m\u001b[0mwith_traceback\u001b[0m\u001b[0;34m(\u001b[0m\u001b[0mfiltered_tb\u001b[0m\u001b[0;34m)\u001b[0m \u001b[0;32mfrom\u001b[0m \u001b[0;32mNone\u001b[0m\u001b[0;34m\u001b[0m\u001b[0;34m\u001b[0m\u001b[0m\n\u001b[0m\u001b[1;32m     71\u001b[0m         \u001b[0;32mfinally\u001b[0m\u001b[0;34m:\u001b[0m\u001b[0;34m\u001b[0m\u001b[0;34m\u001b[0m\u001b[0m\n\u001b[1;32m     72\u001b[0m             \u001b[0;32mdel\u001b[0m \u001b[0mfiltered_tb\u001b[0m\u001b[0;34m\u001b[0m\u001b[0;34m\u001b[0m\u001b[0m\n",
      "\u001b[0;32m/opt/conda/lib/python3.7/site-packages/keras/saving/legacy/save.py\u001b[0m in \u001b[0;36mload_model\u001b[0;34m(filepath, custom_objects, compile, options)\u001b[0m\n\u001b[1;32m    226\u001b[0m                     \u001b[0;32mif\u001b[0m \u001b[0;32mnot\u001b[0m \u001b[0mtf\u001b[0m\u001b[0;34m.\u001b[0m\u001b[0mio\u001b[0m\u001b[0;34m.\u001b[0m\u001b[0mgfile\u001b[0m\u001b[0;34m.\u001b[0m\u001b[0mexists\u001b[0m\u001b[0;34m(\u001b[0m\u001b[0mfilepath_str\u001b[0m\u001b[0;34m)\u001b[0m\u001b[0;34m:\u001b[0m\u001b[0;34m\u001b[0m\u001b[0;34m\u001b[0m\u001b[0m\n\u001b[1;32m    227\u001b[0m                         raise IOError(\n\u001b[0;32m--> 228\u001b[0;31m                             \u001b[0;34mf\"No file or directory found at {filepath_str}\"\u001b[0m\u001b[0;34m\u001b[0m\u001b[0;34m\u001b[0m\u001b[0m\n\u001b[0m\u001b[1;32m    229\u001b[0m                         )\n\u001b[1;32m    230\u001b[0m \u001b[0;34m\u001b[0m\u001b[0m\n",
      "\u001b[0;31mOSError\u001b[0m: No file or directory found at weights/unet_64_adam_bce_8.h5"
     ]
    }
   ],
   "source": [
    "w_path = 'weights/unet_64_adam_bce_8.h5'\n",
    "model = load_model(w_path)\n",
    "Y_pred = []\n",
    "for i in range(X_test.shape[0]):\n",
    "    pred = model.predict(np.expand_dims(X_test[i], axis=0), verbose=0)\n",
    "    pred = (pred > 0.5).astype(np.uint8)\n",
    "    pred = np.squeeze(pred)\n",
    "\n",
    "    ret1, thresh = cv2.threshold(pred, 0, 255, cv2.THRESH_BINARY+cv2.THRESH_OTSU)\n",
    "\n",
    "    # Borrow from imageMKS\n",
    "    # Step 9: distance transform\n",
    "    distance = ndi.distance_transform_edt(thresh)\n",
    "    \n",
    "    # Step 10: mark the maxima in the distance transform and assign labels\n",
    "    peak_markers = corner_peaks(distance, min_distance=5, indices=False)\n",
    "    peak_markers = ndi.label(peak_markers)[0]\n",
    "    \n",
    "    # Step 11: separate touching nuclei using the watershed markers\n",
    "    markers = watershed(pred, peak_markers, mask=pred)\n",
    "    \n",
    "    # Step 13: reassigning labels, so that they are continuously numbered\n",
    "    old_labels = np.unique(markers)\n",
    "    for i in range(len(old_labels)):\n",
    "        markers[markers == old_labels[i]] = i\n",
    "    \n",
    "    #Let us color boundaries in yellow. \n",
    "    img[markers == -1] = [0,255,255]  \n",
    "    \n",
    "    img_rgb = label2rgb(markers, bg_label=0)\n",
    "    Y_pred.append(img_rgb)\n",
    "Y_pred = np.array(Y_pred)\n",
    "Y_pred.shape"
   ]
  },
  {
   "cell_type": "code",
   "execution_count": null,
   "metadata": {},
   "outputs": [],
   "source": [
    "fig, axs = plt.subplots(6, 4, figsize=(8, 15))\n",
    "row = 0\n",
    "col = 0\n",
    "for i in range(X_test.shape[0]):\n",
    "  axs[row][col].imshow(Y_test[i], cmap='gray')\n",
    "  axs[row][col+1].imshow(np.squeeze(Y_pred[i]), cmap='gray')\n",
    "  axs[row][col].set_title(test_ids[i], fontsize=8)\n",
    "  axs[row][col+1].set_title('Predicted', fontsize=8)\n",
    "  col = col + 2\n",
    "  if col == 4:\n",
    "    col = 0\n",
    "    row = row + 1\n",
    "plt.show()"
   ]
  },
  {
   "cell_type": "markdown",
   "metadata": {},
   "source": [
    "### SGD, BCE"
   ]
  },
  {
   "cell_type": "code",
   "execution_count": null,
   "metadata": {},
   "outputs": [],
   "source": [
    "w_path = 'weights/unet_64_sgd_bce_8.h5'\n",
    "model = load_model(w_path)\n",
    "Y_pred = []\n",
    "for i in range(X_test.shape[0]):\n",
    "    pred = model.predict(np.expand_dims(X_test[i], axis=0), verbose=0)\n",
    "    pred = (pred > 0.5).astype(np.uint8)\n",
    "    pred = np.squeeze(pred)\n",
    "\n",
    "    ret1, thresh = cv2.threshold(pred, 0, 255, cv2.THRESH_BINARY+cv2.THRESH_OTSU)\n",
    "\n",
    "    # Borrow from imageMKS\n",
    "    # Step 9: distance transform\n",
    "    distance = ndi.distance_transform_edt(thresh)\n",
    "    \n",
    "    # Step 10: mark the maxima in the distance transform and assign labels\n",
    "    peak_markers = corner_peaks(distance, min_distance=5, indices=False)\n",
    "    peak_markers = ndi.label(peak_markers)[0]\n",
    "    \n",
    "    # Step 11: separate touching nuclei using the watershed markers\n",
    "    markers = watershed(pred, peak_markers, mask=pred)\n",
    "    \n",
    "    # Step 13: reassigning labels, so that they are continuously numbered\n",
    "    old_labels = np.unique(markers)\n",
    "    for i in range(len(old_labels)):\n",
    "        markers[markers == old_labels[i]] = i\n",
    "    \n",
    "    #Let us color boundaries in yellow. \n",
    "    img[markers == -1] = [0,255,255]  \n",
    "    \n",
    "    img_rgb = label2rgb(markers, bg_label=0)\n",
    "    Y_pred.append(img_rgb)\n",
    "Y_pred = np.array(Y_pred)\n",
    "Y_pred.shape"
   ]
  },
  {
   "cell_type": "code",
   "execution_count": null,
   "metadata": {},
   "outputs": [],
   "source": [
    "fig, axs = plt.subplots(6, 4, figsize=(8, 15))\n",
    "row = 0\n",
    "col = 0\n",
    "for i in range(X_test.shape[0]):\n",
    "  axs[row][col].imshow(Y_test[i], cmap='gray')\n",
    "  axs[row][col+1].imshow(np.squeeze(Y_pred[i]), cmap='gray')\n",
    "  axs[row][col].set_title(test_ids[i], fontsize=8)\n",
    "  axs[row][col+1].set_title('Predicted', fontsize=8)\n",
    "  col = col + 2\n",
    "  if col == 4:\n",
    "    col = 0\n",
    "    row = row + 1\n",
    "plt.show()"
   ]
  },
  {
   "cell_type": "markdown",
   "metadata": {},
   "source": [
    "### Adam, DICE+Jaccard"
   ]
  },
  {
   "cell_type": "code",
   "execution_count": null,
   "metadata": {},
   "outputs": [],
   "source": [
    "def dice_coef_loss(y_true, y_pred):\n",
    "    return -dice_coef(y_true, y_pred)\n",
    "\n",
    "def jacard_coef_loss(y_true, y_pred):\n",
    "    return -jacard_coef(y_true, y_pred)\n",
    "\n",
    "def dice_coef(y_true, y_pred):\n",
    "    y_true_f = K.flatten(y_true)\n",
    "    y_pred_f = K.flatten(y_pred)\n",
    "    intersection = K.sum(y_true_f * y_pred_f)\n",
    "    return (2.0 * intersection + 1.0) / (K.sum(y_true_f) + K.sum(y_pred_f) + 1.0)\n",
    "\n",
    "def jacard_coef(y_true, y_pred):\n",
    "    y_true_f = K.flatten(y_true)\n",
    "    y_pred_f = K.flatten(y_pred)\n",
    "    intersection = K.sum(y_true_f * y_pred_f)\n",
    "    return (intersection + 1.0) / (K.sum(y_true_f) + K.sum(y_pred_f) - intersection + 1.0)"
   ]
  },
  {
   "cell_type": "code",
   "execution_count": null,
   "metadata": {},
   "outputs": [],
   "source": [
    "w_path = 'weights/unet_64_adam_dice+jacard_8.h5'\n",
    "model = load_model(w_path, custom_objects={'dice_coef_loss': dice_coef_loss, 'jacard_coef_loss': jacard_coef_loss, 'dice_coef': dice_coef, 'jacard_coef': jacard_coef})\n",
    "Y_pred = []\n",
    "for i in range(X_test.shape[0]):\n",
    "    pred = model.predict(np.expand_dims(X_test[i], axis=0), verbose=0)\n",
    "    pred = (pred > 0.5).astype(np.uint8)\n",
    "    pred = np.squeeze(pred)\n",
    "\n",
    "    ret1, thresh = cv2.threshold(pred, 0, 255, cv2.THRESH_BINARY+cv2.THRESH_OTSU)\n",
    "\n",
    "    # Borrow from imageMKS\n",
    "    # Step 9: distance transform\n",
    "    distance = ndi.distance_transform_edt(thresh)\n",
    "    \n",
    "    # Step 10: mark the maxima in the distance transform and assign labels\n",
    "    peak_markers = corner_peaks(distance, min_distance=5, indices=False)\n",
    "    peak_markers = ndi.label(peak_markers)[0]\n",
    "    \n",
    "    # Step 11: separate touching nuclei using the watershed markers\n",
    "    markers = watershed(pred, peak_markers, mask=pred)\n",
    "    \n",
    "    # Step 13: reassigning labels, so that they are continuously numbered\n",
    "    old_labels = np.unique(markers)\n",
    "    for i in range(len(old_labels)):\n",
    "        markers[markers == old_labels[i]] = i\n",
    "    \n",
    "    #Let us color boundaries in yellow. \n",
    "    img[markers == -1] = [0,255,255]  \n",
    "    \n",
    "    img_rgb = label2rgb(markers, bg_label=0)\n",
    "    Y_pred.append(img_rgb)\n",
    "Y_pred = np.array(Y_pred)\n",
    "Y_pred.shape"
   ]
  },
  {
   "cell_type": "code",
   "execution_count": null,
   "metadata": {},
   "outputs": [],
   "source": [
    "fig, axs = plt.subplots(6, 4, figsize=(8, 15))\n",
    "row = 0\n",
    "col = 0\n",
    "for i in range(X_test.shape[0]):\n",
    "  axs[row][col].imshow(Y_test[i], cmap='gray')\n",
    "  axs[row][col+1].imshow(np.squeeze(Y_pred[i]), cmap='gray')\n",
    "  axs[row][col].set_title(test_ids[i], fontsize=8)\n",
    "  axs[row][col+1].set_title('Predicted', fontsize=8)\n",
    "  col = col + 2\n",
    "  if col == 4:\n",
    "    col = 0\n",
    "    row = row + 1\n",
    "plt.show()"
   ]
  },
  {
   "cell_type": "markdown",
   "metadata": {},
   "source": [
    "### SGD, DICE+Jaccard"
   ]
  },
  {
   "cell_type": "code",
   "execution_count": null,
   "metadata": {},
   "outputs": [],
   "source": [
    "w_path = 'weights/unet_64_sgd_dice+jacard_8.h5'\n",
    "model = load_model(w_path, custom_objects={'dice_coef_loss': dice_coef_loss, 'jacard_coef_loss': jacard_coef_loss, 'dice_coef': dice_coef, 'jacard_coef': jacard_coef})\n",
    "Y_pred = []\n",
    "for i in range(X_test.shape[0]):\n",
    "    pred = model.predict(np.expand_dims(X_test[i], axis=0), verbose=0)\n",
    "    pred = (pred > 0.5).astype(np.uint8)\n",
    "    pred = np.squeeze(pred)\n",
    "\n",
    "    ret1, thresh = cv2.threshold(pred, 0, 255, cv2.THRESH_BINARY+cv2.THRESH_OTSU)\n",
    "\n",
    "    # Borrow from imageMKS\n",
    "    # Step 9: distance transform\n",
    "    distance = ndi.distance_transform_edt(thresh)\n",
    "    \n",
    "    # Step 10: mark the maxima in the distance transform and assign labels\n",
    "    peak_markers = corner_peaks(distance, min_distance=5, indices=False)\n",
    "    peak_markers = ndi.label(peak_markers)[0]\n",
    "    \n",
    "    # Step 11: separate touching nuclei using the watershed markers\n",
    "    markers = watershed(pred, peak_markers, mask=pred)\n",
    "    \n",
    "    # Step 13: reassigning labels, so that they are continuously numbered\n",
    "    old_labels = np.unique(markers)\n",
    "    for i in range(len(old_labels)):\n",
    "        markers[markers == old_labels[i]] = i\n",
    "    \n",
    "    #Let us color boundaries in yellow. \n",
    "    img[markers == -1] = [0,255,255]  \n",
    "    \n",
    "    img_rgb = label2rgb(markers, bg_label=0)\n",
    "    Y_pred.append(img_rgb)\n",
    "Y_pred = np.array(Y_pred)\n",
    "Y_pred.shape"
   ]
  },
  {
   "cell_type": "code",
   "execution_count": null,
   "metadata": {},
   "outputs": [],
   "source": [
    "fig, axs = plt.subplots(6, 4, figsize=(8, 15))\n",
    "row = 0\n",
    "col = 0\n",
    "for i in range(X_test.shape[0]):\n",
    "  axs[row][col].imshow(Y_test[i], cmap='gray')\n",
    "  axs[row][col+1].imshow(np.squeeze(Y_pred[i]), cmap='gray')\n",
    "  axs[row][col].set_title(test_ids[i], fontsize=8)\n",
    "  axs[row][col+1].set_title('Predicted', fontsize=8)\n",
    "  col = col + 2\n",
    "  if col == 4:\n",
    "    col = 0\n",
    "    row = row + 1\n",
    "plt.show()"
   ]
  },
  {
   "cell_type": "markdown",
   "metadata": {},
   "source": [
    "## IRNV2 U_Net"
   ]
  },
  {
   "cell_type": "markdown",
   "metadata": {},
   "source": [
    "### Adam, BCE"
   ]
  },
  {
   "cell_type": "code",
   "execution_count": null,
   "metadata": {},
   "outputs": [],
   "source": [
    "w_path = 'weights/irnv2_unet_64_adam_bce_8.h5'\n",
    "model = load_model(w_path)\n",
    "Y_pred = []\n",
    "for i in range(X_test.shape[0]):\n",
    "    pred = model.predict(np.expand_dims(X_test[i], axis=0), verbose=0)\n",
    "    pred = (pred > 0.5).astype(np.uint8)\n",
    "    pred = np.squeeze(pred)\n",
    "\n",
    "    ret1, thresh = cv2.threshold(pred, 0, 255, cv2.THRESH_BINARY+cv2.THRESH_OTSU)\n",
    "\n",
    "    # Borrow from imageMKS\n",
    "    # Step 9: distance transform\n",
    "    distance = ndi.distance_transform_edt(thresh)\n",
    "    \n",
    "    # Step 10: mark the maxima in the distance transform and assign labels\n",
    "    peak_markers = corner_peaks(distance, min_distance=5, indices=False)\n",
    "    peak_markers = ndi.label(peak_markers)[0]\n",
    "    \n",
    "    # Step 11: separate touching nuclei using the watershed markers\n",
    "    markers = watershed(pred, peak_markers, mask=pred)\n",
    "    \n",
    "    # Step 13: reassigning labels, so that they are continuously numbered\n",
    "    old_labels = np.unique(markers)\n",
    "    for i in range(len(old_labels)):\n",
    "        markers[markers == old_labels[i]] = i\n",
    "    \n",
    "    #Let us color boundaries in yellow. \n",
    "    img[markers == -1] = [0,255,255]  \n",
    "    \n",
    "    img_rgb = label2rgb(markers, bg_label=0)\n",
    "    Y_pred.append(img_rgb)\n",
    "Y_pred = np.array(Y_pred)\n",
    "Y_pred.shape"
   ]
  },
  {
   "cell_type": "code",
   "execution_count": null,
   "metadata": {},
   "outputs": [],
   "source": [
    "fig, axs = plt.subplots(6, 4, figsize=(8, 15))\n",
    "row = 0\n",
    "col = 0\n",
    "for i in range(X_test.shape[0]):\n",
    "  axs[row][col].imshow(Y_test[i], cmap='gray')\n",
    "  axs[row][col+1].imshow(np.squeeze(Y_pred[i]), cmap='gray')\n",
    "  axs[row][col].set_title(test_ids[i], fontsize=8)\n",
    "  axs[row][col+1].set_title('Predicted', fontsize=8)\n",
    "  col = col + 2\n",
    "  if col == 4:\n",
    "    col = 0\n",
    "    row = row + 1\n",
    "plt.show()"
   ]
  },
  {
   "cell_type": "markdown",
   "metadata": {},
   "source": [
    "### SGD, BCEw_path = 'weights/irnv2_unet_64_adam_bce_8.h5'"
   ]
  },
  {
   "cell_type": "code",
   "execution_count": null,
   "metadata": {},
   "outputs": [],
   "source": [
    "w_path = 'weights/irnv2_unet_64_sgd_bce_8.h5'\n",
    "model = load_model(w_path)\n",
    "Y_pred = []\n",
    "for i in range(X_test.shape[0]):\n",
    "    pred = model.predict(np.expand_dims(X_test[i], axis=0), verbose=0)\n",
    "    pred = (pred > 0.5).astype(np.uint8)\n",
    "    pred = np.squeeze(pred)\n",
    "\n",
    "    ret1, thresh = cv2.threshold(pred, 0, 255, cv2.THRESH_BINARY+cv2.THRESH_OTSU)\n",
    "\n",
    "    # Borrow from imageMKS\n",
    "    # Step 9: distance transform\n",
    "    distance = ndi.distance_transform_edt(thresh)\n",
    "    \n",
    "    # Step 10: mark the maxima in the distance transform and assign labels\n",
    "    peak_markers = corner_peaks(distance, min_distance=5, indices=False)\n",
    "    peak_markers = ndi.label(peak_markers)[0]\n",
    "    \n",
    "    # Step 11: separate touching nuclei using the watershed markers\n",
    "    markers = watershed(pred, peak_markers, mask=pred)\n",
    "    \n",
    "    # Step 13: reassigning labels, so that they are continuously numbered\n",
    "    old_labels = np.unique(markers)\n",
    "    for i in range(len(old_labels)):\n",
    "        markers[markers == old_labels[i]] = i\n",
    "    \n",
    "    #Let us color boundaries in yellow. \n",
    "    img[markers == -1] = [0,255,255]  \n",
    "    \n",
    "    img_rgb = label2rgb(markers, bg_label=0)\n",
    "    Y_pred.append(img_rgb)\n",
    "Y_pred = np.array(Y_pred)\n",
    "Y_pred.shape"
   ]
  },
  {
   "cell_type": "code",
   "execution_count": null,
   "metadata": {},
   "outputs": [],
   "source": [
    "fig, axs = plt.subplots(6, 4, figsize=(8, 15))\n",
    "row = 0\n",
    "col = 0\n",
    "for i in range(X_test.shape[0]):\n",
    "  axs[row][col].imshow(Y_test[i], cmap='gray')\n",
    "  axs[row][col+1].imshow(np.squeeze(Y_pred[i]), cmap='gray')\n",
    "  axs[row][col].set_title(test_ids[i], fontsize=8)\n",
    "  axs[row][col+1].set_title('Predicted', fontsize=8)\n",
    "  col = col + 2\n",
    "  if col == 4:\n",
    "    col = 0\n",
    "    row = row + 1\n",
    "plt.show()"
   ]
  },
  {
   "cell_type": "markdown",
   "metadata": {},
   "source": [
    "### Adam, DICE+Jaccard"
   ]
  },
  {
   "cell_type": "code",
   "execution_count": null,
   "metadata": {},
   "outputs": [],
   "source": [
    "w_path = 'weights/irnv2_unet_64_adam_dice+jacard_8.h5'\n",
    "model = load_model(w_path)\n",
    "Y_pred = []\n",
    "for i in range(X_test.shape[0]):\n",
    "    pred = model.predict(np.expand_dims(X_test[i], axis=0), verbose=0)\n",
    "    pred = (pred > 0.5).astype(np.uint8)\n",
    "    pred = np.squeeze(pred)\n",
    "\n",
    "    ret1, thresh = cv2.threshold(pred, 0, 255, cv2.THRESH_BINARY+cv2.THRESH_OTSU)\n",
    "\n",
    "    # Borrow from imageMKS\n",
    "    # Step 9: distance transform\n",
    "    distance = ndi.distance_transform_edt(thresh)\n",
    "    \n",
    "    # Step 10: mark the maxima in the distance transform and assign labels\n",
    "    peak_markers = corner_peaks(distance, min_distance=5, indices=False)\n",
    "    peak_markers = ndi.label(peak_markers)[0]\n",
    "    \n",
    "    # Step 11: separate touching nuclei using the watershed markers\n",
    "    markers = watershed(pred, peak_markers, mask=pred)\n",
    "    \n",
    "    # Step 13: reassigning labels, so that they are continuously numbered\n",
    "    old_labels = np.unique(markers)\n",
    "    for i in range(len(old_labels)):\n",
    "        markers[markers == old_labels[i]] = i\n",
    "    \n",
    "    #Let us color boundaries in yellow. \n",
    "    img[markers == -1] = [0,255,255]  \n",
    "    \n",
    "    img_rgb = label2rgb(markers, bg_label=0)\n",
    "    Y_pred.append(img_rgb)\n",
    "Y_pred = np.array(Y_pred)\n",
    "Y_pred.shape"
   ]
  },
  {
   "cell_type": "code",
   "execution_count": null,
   "metadata": {},
   "outputs": [],
   "source": [
    "fig, axs = plt.subplots(6, 4, figsize=(8, 15))\n",
    "row = 0\n",
    "col = 0\n",
    "for i in range(X_test.shape[0]):\n",
    "  axs[row][col].imshow(Y_test[i], cmap='gray')\n",
    "  axs[row][col+1].imshow(np.squeeze(Y_pred[i]), cmap='gray')\n",
    "  axs[row][col].set_title(test_ids[i], fontsize=8)\n",
    "  axs[row][col+1].set_title('Predicted', fontsize=8)\n",
    "  col = col + 2\n",
    "  if col == 4:\n",
    "    col = 0\n",
    "    row = row + 1\n",
    "plt.show()"
   ]
  },
  {
   "cell_type": "markdown",
   "metadata": {},
   "source": [
    "### SGD, DICE+Jaccard"
   ]
  },
  {
   "cell_type": "code",
   "execution_count": null,
   "metadata": {},
   "outputs": [],
   "source": [
    "w_path = 'weights/irnv2_unet_64_sgd_dice+jacard_8.h5'\n",
    "model = load_model(w_path)\n",
    "Y_pred = []\n",
    "for i in range(X_test.shape[0]):\n",
    "    pred = model.predict(np.expand_dims(X_test[i], axis=0), verbose=0)\n",
    "    pred = (pred > 0.5).astype(np.uint8)\n",
    "    pred = np.squeeze(pred)\n",
    "\n",
    "    ret1, thresh = cv2.threshold(pred, 0, 255, cv2.THRESH_BINARY+cv2.THRESH_OTSU)\n",
    "\n",
    "    # Borrow from imageMKS\n",
    "    # Step 9: distance transform\n",
    "    distance = ndi.distance_transform_edt(thresh)\n",
    "    \n",
    "    # Step 10: mark the maxima in the distance transform and assign labels\n",
    "    peak_markers = corner_peaks(distance, min_distance=5, indices=False)\n",
    "    peak_markers = ndi.label(peak_markers)[0]\n",
    "    \n",
    "    # Step 11: separate touching nuclei using the watershed markers\n",
    "    markers = watershed(pred, peak_markers, mask=pred)\n",
    "    \n",
    "    # Step 13: reassigning labels, so that they are continuously numbered\n",
    "    old_labels = np.unique(markers)\n",
    "    for i in range(len(old_labels)):\n",
    "        markers[markers == old_labels[i]] = i\n",
    "    \n",
    "    #Let us color boundaries in yellow. \n",
    "    img[markers == -1] = [0,255,255]  \n",
    "    \n",
    "    img_rgb = label2rgb(markers, bg_label=0)\n",
    "    Y_pred.append(img_rgb)\n",
    "Y_pred = np.array(Y_pred)\n",
    "Y_pred.shape"
   ]
  },
  {
   "cell_type": "code",
   "execution_count": null,
   "metadata": {},
   "outputs": [],
   "source": [
    "fig, axs = plt.subplots(6, 4, figsize=(8, 15))\n",
    "row = 0\n",
    "col = 0\n",
    "for i in range(X_test.shape[0]):\n",
    "  axs[row][col].imshow(Y_test[i], cmap='gray')\n",
    "  axs[row][col+1].imshow(np.squeeze(Y_pred[i]), cmap='gray')\n",
    "  axs[row][col].set_title(test_ids[i], fontsize=8)\n",
    "  axs[row][col+1].set_title('Predicted', fontsize=8)\n",
    "  col = col + 2\n",
    "  if col == 4:\n",
    "    col = 0\n",
    "    row = row + 1\n",
    "plt.show()"
   ]
  },
  {
   "cell_type": "markdown",
   "metadata": {},
   "source": [
    "## RA U-Net"
   ]
  },
  {
   "cell_type": "markdown",
   "metadata": {},
   "source": [
    "### Adam, BCEw_path = 'weights/irnv2_unet_64_adam_bce_8.h5'"
   ]
  },
  {
   "cell_type": "code",
   "execution_count": null,
   "metadata": {},
   "outputs": [],
   "source": [
    "w_path = 'weights/ra_unet_64_adam_bce_8.h5'\n",
    "model = load_model(w_path)\n",
    "Y_pred = []\n",
    "for i in range(X_test.shape[0]):\n",
    "    pred = model.predict(np.expand_dims(X_test[i], axis=0), verbose=0)\n",
    "    pred = (pred > 0.5).astype(np.uint8)\n",
    "    pred = np.squeeze(pred)\n",
    "\n",
    "    ret1, thresh = cv2.threshold(pred, 0, 255, cv2.THRESH_BINARY+cv2.THRESH_OTSU)\n",
    "\n",
    "    # Borrow from imageMKS\n",
    "    # Step 9: distance transform\n",
    "    distance = ndi.distance_transform_edt(thresh)\n",
    "    \n",
    "    # Step 10: mark the maxima in the distance transform and assign labels\n",
    "    peak_markers = corner_peaks(distance, min_distance=5, indices=False)\n",
    "    peak_markers = ndi.label(peak_markers)[0]\n",
    "    \n",
    "    # Step 11: separate touching nuclei using the watershed markers\n",
    "    markers = watershed(pred, peak_markers, mask=pred)\n",
    "    \n",
    "    # Step 13: reassigning labels, so that they are continuously numbered\n",
    "    old_labels = np.unique(markers)\n",
    "    for i in range(len(old_labels)):\n",
    "        markers[markers == old_labels[i]] = i\n",
    "    \n",
    "    #Let us color boundaries in yellow. \n",
    "    img[markers == -1] = [0,255,255]  \n",
    "    \n",
    "    img_rgb = label2rgb(markers, bg_label=0)\n",
    "    Y_pred.append(img_rgb)\n",
    "Y_pred = np.array(Y_pred)\n",
    "Y_pred.shape"
   ]
  },
  {
   "cell_type": "code",
   "execution_count": null,
   "metadata": {},
   "outputs": [],
   "source": [
    "fig, axs = plt.subplots(6, 4, figsize=(8, 15))\n",
    "row = 0\n",
    "col = 0\n",
    "for i in range(X_test.shape[0]):\n",
    "  axs[row][col].imshow(Y_test[i], cmap='gray')\n",
    "  axs[row][col+1].imshow(np.squeeze(Y_pred[i]), cmap='gray')\n",
    "  axs[row][col].set_title(test_ids[i], fontsize=8)\n",
    "  axs[row][col+1].set_title('Predicted', fontsize=8)\n",
    "  col = col + 2\n",
    "  if col == 4:\n",
    "    col = 0\n",
    "    row = row + 1\n",
    "plt.show()"
   ]
  },
  {
   "cell_type": "markdown",
   "metadata": {},
   "source": [
    "### SGD, BCE"
   ]
  },
  {
   "cell_type": "code",
   "execution_count": null,
   "metadata": {},
   "outputs": [],
   "source": [
    "w_path = 'weights/ra_unet_64_sgd_bce_8.h5'\n",
    "model = load_model(w_path)\n",
    "Y_pred = []\n",
    "for i in range(X_test.shape[0]):\n",
    "    pred = model.predict(np.expand_dims(X_test[i], axis=0), verbose=0)\n",
    "    pred = (pred > 0.5).astype(np.uint8)\n",
    "    pred = np.squeeze(pred)\n",
    "\n",
    "    ret1, thresh = cv2.threshold(pred, 0, 255, cv2.THRESH_BINARY+cv2.THRESH_OTSU)\n",
    "\n",
    "    # Borrow from imageMKS\n",
    "    # Step 9: distance transform\n",
    "    distance = ndi.distance_transform_edt(thresh)\n",
    "    \n",
    "    # Step 10: mark the maxima in the distance transform and assign labels\n",
    "    peak_markers = corner_peaks(distance, min_distance=5, indices=False)\n",
    "    peak_markers = ndi.label(peak_markers)[0]\n",
    "    \n",
    "    # Step 11: separate touching nuclei using the watershed markers\n",
    "    markers = watershed(pred, peak_markers, mask=pred)\n",
    "    \n",
    "    # Step 13: reassigning labels, so that they are continuously numbered\n",
    "    old_labels = np.unique(markers)\n",
    "    for i in range(len(old_labels)):\n",
    "        markers[markers == old_labels[i]] = i\n",
    "    \n",
    "    #Let us color boundaries in yellow. \n",
    "    img[markers == -1] = [0,255,255]  \n",
    "    \n",
    "    img_rgb = label2rgb(markers, bg_label=0)\n",
    "    Y_pred.append(img_rgb)\n",
    "Y_pred = np.array(Y_pred)\n",
    "Y_pred.shape"
   ]
  },
  {
   "cell_type": "code",
   "execution_count": null,
   "metadata": {},
   "outputs": [],
   "source": [
    "fig, axs = plt.subplots(6, 4, figsize=(8, 15))\n",
    "row = 0\n",
    "col = 0\n",
    "for i in range(X_test.shape[0]):\n",
    "  axs[row][col].imshow(Y_test[i], cmap='gray')\n",
    "  axs[row][col+1].imshow(np.squeeze(Y_pred[i]), cmap='gray')\n",
    "  axs[row][col].set_title(test_ids[i], fontsize=8)\n",
    "  axs[row][col+1].set_title('Predicted', fontsize=8)\n",
    "  col = col + 2\n",
    "  if col == 4:\n",
    "    col = 0\n",
    "    row = row + 1\n",
    "plt.show()"
   ]
  },
  {
   "cell_type": "markdown",
   "metadata": {},
   "source": [
    "### Adam, DICE + Jaccard"
   ]
  },
  {
   "cell_type": "code",
   "execution_count": null,
   "metadata": {},
   "outputs": [],
   "source": [
    "w_path = 'weights/ra_unet_64_adam_dice+jacard_8.h5'\n",
    "model = load_model(w_path)\n",
    "Y_pred = []\n",
    "for i in range(X_test.shape[0]):\n",
    "    pred = model.predict(np.expand_dims(X_test[i], axis=0), verbose=0)\n",
    "    pred = (pred > 0.5).astype(np.uint8)\n",
    "    pred = np.squeeze(pred)\n",
    "\n",
    "    ret1, thresh = cv2.threshold(pred, 0, 255, cv2.THRESH_BINARY+cv2.THRESH_OTSU)\n",
    "\n",
    "    # Borrow from imageMKS\n",
    "    # Step 9: distance transform\n",
    "    distance = ndi.distance_transform_edt(thresh)\n",
    "    \n",
    "    # Step 10: mark the maxima in the distance transform and assign labels\n",
    "    peak_markers = corner_peaks(distance, min_distance=5, indices=False)\n",
    "    peak_markers = ndi.label(peak_markers)[0]\n",
    "    \n",
    "    # Step 11: separate touching nuclei using the watershed markers\n",
    "    markers = watershed(pred, peak_markers, mask=pred)\n",
    "    \n",
    "    # Step 13: reassigning labels, so that they are continuously numbered\n",
    "    old_labels = np.unique(markers)\n",
    "    for i in range(len(old_labels)):\n",
    "        markers[markers == old_labels[i]] = i\n",
    "    \n",
    "    #Let us color boundaries in yellow. \n",
    "    img[markers == -1] = [0,255,255]  \n",
    "    \n",
    "    img_rgb = label2rgb(markers, bg_label=0)\n",
    "    Y_pred.append(img_rgb)\n",
    "Y_pred = np.array(Y_pred)\n",
    "Y_pred.shape"
   ]
  },
  {
   "cell_type": "code",
   "execution_count": null,
   "metadata": {},
   "outputs": [],
   "source": [
    "fig, axs = plt.subplots(6, 4, figsize=(8, 15))\n",
    "row = 0\n",
    "col = 0\n",
    "for i in range(X_test.shape[0]):\n",
    "  axs[row][col].imshow(Y_test[i], cmap='gray')\n",
    "  axs[row][col+1].imshow(np.squeeze(Y_pred[i]), cmap='gray')\n",
    "  axs[row][col].set_title(test_ids[i], fontsize=8)\n",
    "  axs[row][col+1].set_title('Predicted', fontsize=8)\n",
    "  col = col + 2\n",
    "  if col == 4:\n",
    "    col = 0\n",
    "    row = row + 1\n",
    "plt.show()"
   ]
  },
  {
   "cell_type": "markdown",
   "metadata": {},
   "source": [
    "### SGD, DICE + Jaccard"
   ]
  },
  {
   "cell_type": "code",
   "execution_count": null,
   "metadata": {},
   "outputs": [],
   "source": [
    "w_path = 'weights/ra_unet_64_sgd_dice+jacard_8.h5'\n",
    "model = load_model(w_path)\n",
    "Y_pred = []\n",
    "for i in range(X_test.shape[0]):\n",
    "    pred = model.predict(np.expand_dims(X_test[i], axis=0), verbose=0)\n",
    "    pred = (pred > 0.5).astype(np.uint8)\n",
    "    pred = np.squeeze(pred)\n",
    "\n",
    "    ret1, thresh = cv2.threshold(pred, 0, 255, cv2.THRESH_BINARY+cv2.THRESH_OTSU)\n",
    "\n",
    "    # Borrow from imageMKS\n",
    "    # Step 9: distance transform\n",
    "    distance = ndi.distance_transform_edt(thresh)\n",
    "    \n",
    "    # Step 10: mark the maxima in the distance transform and assign labels\n",
    "    peak_markers = corner_peaks(distance, min_distance=5, indices=False)\n",
    "    peak_markers = ndi.label(peak_markers)[0]\n",
    "    \n",
    "    # Step 11: separate touching nuclei using the watershed markers\n",
    "    markers = watershed(pred, peak_markers, mask=pred)\n",
    "    \n",
    "    # Step 13: reassigning labels, so that they are continuously numbered\n",
    "    old_labels = np.unique(markers)\n",
    "    for i in range(len(old_labels)):\n",
    "        markers[markers == old_labels[i]] = i\n",
    "    \n",
    "    #Let us color boundaries in yellow. \n",
    "    img[markers == -1] = [0,255,255]  \n",
    "    \n",
    "    img_rgb = label2rgb(markers, bg_label=0)\n",
    "    Y_pred.append(img_rgb)\n",
    "Y_pred = np.array(Y_pred)\n",
    "Y_pred.shape"
   ]
  },
  {
   "cell_type": "code",
   "execution_count": null,
   "metadata": {},
   "outputs": [],
   "source": [
    "fig, axs = plt.subplots(6, 4, figsize=(8, 15))\n",
    "row = 0\n",
    "col = 0\n",
    "for i in range(X_test.shape[0]):\n",
    "  axs[row][col].imshow(Y_test[i], cmap='gray')\n",
    "  axs[row][col+1].imshow(np.squeeze(Y_pred[i]), cmap='gray')\n",
    "  axs[row][col].set_title(test_ids[i], fontsize=8)\n",
    "  axs[row][col+1].set_title('Predicted', fontsize=8)\n",
    "  col = col + 2\n",
    "  if col == 4:\n",
    "    col = 0\n",
    "    row = row + 1\n",
    "plt.show()"
   ]
  }
 ],
 "metadata": {
  "kernelspec": {
   "display_name": "Python 3 (ipykernel)",
   "language": "python",
   "name": "python3"
  },
  "language_info": {
   "codemirror_mode": {
    "name": "ipython",
    "version": 3
   },
   "file_extension": ".py",
   "mimetype": "text/x-python",
   "name": "python",
   "nbconvert_exporter": "python",
   "pygments_lexer": "ipython3",
   "version": "3.7.12"
  },
  "toc-autonumbering": false,
  "toc-showcode": false,
  "toc-showmarkdowntxt": true
 },
 "nbformat": 4,
 "nbformat_minor": 4
}
